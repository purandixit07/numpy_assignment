{
 "cells": [
  {
   "cell_type": "markdown",
   "id": "9721f7c5",
   "metadata": {},
   "source": [
    "# Q1"
   ]
  },
  {
   "cell_type": "code",
   "execution_count": 1,
   "id": "504fed4b",
   "metadata": {},
   "outputs": [],
   "source": [
    "import numpy as np"
   ]
  },
  {
   "cell_type": "code",
   "execution_count": 2,
   "id": "8d9e90f6",
   "metadata": {},
   "outputs": [],
   "source": [
    "def gp(x):\n",
    "    N = len(x)\n",
    "    n = int(input(\"enter no. of columns you want \"))\n",
    "    y = np.empty((N,n))    \n",
    "    j=0\n",
    "    for i in x:\n",
    "        if j<= N-1:\n",
    "            for k in range(n):\n",
    "                y[j][k]=i**(n-k-1)\n",
    "        j = j+1\n",
    "    return y"
   ]
  },
  {
   "cell_type": "code",
   "execution_count": 3,
   "id": "506f1973",
   "metadata": {},
   "outputs": [
    {
     "name": "stdout",
     "output_type": "stream",
     "text": [
      "enter no. of columns you want 4\n"
     ]
    },
    {
     "data": {
      "text/plain": [
       "array([[  8.,   4.,   2.,   1.],\n",
       "       [ 27.,   9.,   3.,   1.],\n",
       "       [ 64.,  16.,   4.,   1.],\n",
       "       [216.,  36.,   6.,   1.]])"
      ]
     },
     "execution_count": 3,
     "metadata": {},
     "output_type": "execute_result"
    }
   ],
   "source": [
    "gp([2,3,4,6])"
   ]
  },
  {
   "cell_type": "markdown",
   "id": "b302b307",
   "metadata": {},
   "source": [
    "# Q2"
   ]
  },
  {
   "cell_type": "code",
   "execution_count": 4,
   "id": "4f3b956f",
   "metadata": {},
   "outputs": [],
   "source": [
    "def MA(l):\n",
    "    k=int(input('enter the window size '))\n",
    "    l1=[]\n",
    "    for i in range(len(l)):\n",
    "        if len(l[i:i+k])==k:\n",
    "            l1.append(l[i:i+k]) \n",
    "    i=i+1\n",
    "    for i in l1:\n",
    "        a = 0\n",
    "        for j in i:\n",
    "            a = a+j\n",
    "            b = a/k    \n",
    "        print(b)"
   ]
  },
  {
   "cell_type": "code",
   "execution_count": 5,
   "id": "2cf5ad29",
   "metadata": {},
   "outputs": [
    {
     "name": "stdout",
     "output_type": "stream",
     "text": [
      "enter the window size 3\n",
      "5.0\n",
      "4.666666666666667\n",
      "5.666666666666667\n",
      "6.666666666666667\n",
      "9.666666666666666\n",
      "28.666666666666668\n",
      "49.333333333333336\n",
      "72.66666666666667\n",
      "84.0\n",
      "93.33333333333333\n",
      "116.33333333333333\n"
     ]
    }
   ],
   "source": [
    "MA([3,5,7,2,8,10,11,65,72,81,99,100,150])"
   ]
  },
  {
   "cell_type": "code",
   "execution_count": null,
   "id": "4e7623da",
   "metadata": {},
   "outputs": [],
   "source": []
  }
 ],
 "metadata": {
  "kernelspec": {
   "display_name": "Python 3",
   "language": "python",
   "name": "python3"
  },
  "language_info": {
   "codemirror_mode": {
    "name": "ipython",
    "version": 3
   },
   "file_extension": ".py",
   "mimetype": "text/x-python",
   "name": "python",
   "nbconvert_exporter": "python",
   "pygments_lexer": "ipython3",
   "version": "3.8.8"
  }
 },
 "nbformat": 4,
 "nbformat_minor": 5
}
